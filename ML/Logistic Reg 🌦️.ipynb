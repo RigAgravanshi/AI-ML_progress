{
 "cells": [
  {
   "cell_type": "markdown",
   "id": "d6195138-c458-49d6-bc46-bc2007b9e2b5",
   "metadata": {},
   "source": [
    "## Logistic Regression\n",
    "(A few words before we go)\n",
    "\n",
    "Contrary to popular beliefs, Logistic Regression is a type of Classification. Its just that we use the Linear regression function (f(x)= Ax + b). That is so.\n",
    "Come, Let's go."
   ]
  },
  {
   "cell_type": "code",
   "execution_count": 10,
   "id": "93de1f62-f067-440e-a26b-21fecc9e5bef",
   "metadata": {},
   "outputs": [],
   "source": [
    "import pandas as pd\n",
    "import numpy as np\n",
    "import matplotlib.pyplot as plt\n",
    "import seaborn as sns"
   ]
  },
  {
   "cell_type": "code",
   "execution_count": 11,
   "id": "76ccb299-e89a-45dc-b42a-7b05583360c3",
   "metadata": {},
   "outputs": [],
   "source": [
    "#Here, double slash used as \\\\ esc sequence for \\\n",
    "df = pd.read_csv(\"C:\\\\Rig\\\\Work\\\\ML ig\\\\weather_forecast_data.csv\")"
   ]
  },
  {
   "cell_type": "code",
   "execution_count": 12,
   "id": "33a54f14-d72a-403c-879f-9ba962f868f1",
   "metadata": {},
   "outputs": [
    {
     "data": {
      "text/html": [
       "<div>\n",
       "<style scoped>\n",
       "    .dataframe tbody tr th:only-of-type {\n",
       "        vertical-align: middle;\n",
       "    }\n",
       "\n",
       "    .dataframe tbody tr th {\n",
       "        vertical-align: top;\n",
       "    }\n",
       "\n",
       "    .dataframe thead th {\n",
       "        text-align: right;\n",
       "    }\n",
       "</style>\n",
       "<table border=\"1\" class=\"dataframe\">\n",
       "  <thead>\n",
       "    <tr style=\"text-align: right;\">\n",
       "      <th></th>\n",
       "      <th>Temperature</th>\n",
       "      <th>Humidity</th>\n",
       "      <th>Wind_Speed</th>\n",
       "      <th>Cloud_Cover</th>\n",
       "      <th>Pressure</th>\n",
       "      <th>Rain</th>\n",
       "    </tr>\n",
       "  </thead>\n",
       "  <tbody>\n",
       "    <tr>\n",
       "      <th>0</th>\n",
       "      <td>23.720338</td>\n",
       "      <td>89.592641</td>\n",
       "      <td>7.335604</td>\n",
       "      <td>50.501694</td>\n",
       "      <td>1032.378759</td>\n",
       "      <td>rain</td>\n",
       "    </tr>\n",
       "    <tr>\n",
       "      <th>1</th>\n",
       "      <td>27.879734</td>\n",
       "      <td>46.489704</td>\n",
       "      <td>5.952484</td>\n",
       "      <td>4.990053</td>\n",
       "      <td>992.614190</td>\n",
       "      <td>no rain</td>\n",
       "    </tr>\n",
       "    <tr>\n",
       "      <th>2</th>\n",
       "      <td>25.069084</td>\n",
       "      <td>83.072843</td>\n",
       "      <td>1.371992</td>\n",
       "      <td>14.855784</td>\n",
       "      <td>1007.231620</td>\n",
       "      <td>no rain</td>\n",
       "    </tr>\n",
       "    <tr>\n",
       "      <th>3</th>\n",
       "      <td>23.622080</td>\n",
       "      <td>74.367758</td>\n",
       "      <td>7.050551</td>\n",
       "      <td>67.255282</td>\n",
       "      <td>982.632013</td>\n",
       "      <td>rain</td>\n",
       "    </tr>\n",
       "    <tr>\n",
       "      <th>4</th>\n",
       "      <td>20.591370</td>\n",
       "      <td>96.858822</td>\n",
       "      <td>4.643921</td>\n",
       "      <td>47.676444</td>\n",
       "      <td>980.825142</td>\n",
       "      <td>no rain</td>\n",
       "    </tr>\n",
       "  </tbody>\n",
       "</table>\n",
       "</div>"
      ],
      "text/plain": [
       "   Temperature   Humidity  Wind_Speed  Cloud_Cover     Pressure     Rain\n",
       "0    23.720338  89.592641    7.335604    50.501694  1032.378759     rain\n",
       "1    27.879734  46.489704    5.952484     4.990053   992.614190  no rain\n",
       "2    25.069084  83.072843    1.371992    14.855784  1007.231620  no rain\n",
       "3    23.622080  74.367758    7.050551    67.255282   982.632013     rain\n",
       "4    20.591370  96.858822    4.643921    47.676444   980.825142  no rain"
      ]
     },
     "execution_count": 12,
     "metadata": {},
     "output_type": "execute_result"
    }
   ],
   "source": [
    "df.head()"
   ]
  },
  {
   "cell_type": "code",
   "execution_count": 13,
   "id": "a601e4b3-c10d-409a-ad9c-cf1d9fdb9ab1",
   "metadata": {},
   "outputs": [
    {
     "data": {
      "text/plain": [
       "(2500, 6)"
      ]
     },
     "execution_count": 13,
     "metadata": {},
     "output_type": "execute_result"
    }
   ],
   "source": [
    "df.shape"
   ]
  },
  {
   "cell_type": "code",
   "execution_count": 14,
   "id": "097ecc03-90b4-47d4-b340-8ad7e30e7203",
   "metadata": {},
   "outputs": [
    {
     "data": {
      "text/html": [
       "<div>\n",
       "<style scoped>\n",
       "    .dataframe tbody tr th:only-of-type {\n",
       "        vertical-align: middle;\n",
       "    }\n",
       "\n",
       "    .dataframe tbody tr th {\n",
       "        vertical-align: top;\n",
       "    }\n",
       "\n",
       "    .dataframe thead th {\n",
       "        text-align: right;\n",
       "    }\n",
       "</style>\n",
       "<table border=\"1\" class=\"dataframe\">\n",
       "  <thead>\n",
       "    <tr style=\"text-align: right;\">\n",
       "      <th></th>\n",
       "      <th>Temperature</th>\n",
       "      <th>Humidity</th>\n",
       "      <th>Wind_Speed</th>\n",
       "      <th>Cloud_Cover</th>\n",
       "      <th>Pressure</th>\n",
       "    </tr>\n",
       "  </thead>\n",
       "  <tbody>\n",
       "    <tr>\n",
       "      <th>count</th>\n",
       "      <td>2500.000000</td>\n",
       "      <td>2500.000000</td>\n",
       "      <td>2500.000000</td>\n",
       "      <td>2500.000000</td>\n",
       "      <td>2500.000000</td>\n",
       "    </tr>\n",
       "    <tr>\n",
       "      <th>mean</th>\n",
       "      <td>22.581725</td>\n",
       "      <td>64.347094</td>\n",
       "      <td>9.906255</td>\n",
       "      <td>49.658104</td>\n",
       "      <td>1014.312336</td>\n",
       "    </tr>\n",
       "    <tr>\n",
       "      <th>std</th>\n",
       "      <td>7.326996</td>\n",
       "      <td>19.954739</td>\n",
       "      <td>5.780316</td>\n",
       "      <td>29.123104</td>\n",
       "      <td>20.196433</td>\n",
       "    </tr>\n",
       "    <tr>\n",
       "      <th>min</th>\n",
       "      <td>10.001842</td>\n",
       "      <td>30.005071</td>\n",
       "      <td>0.009819</td>\n",
       "      <td>0.015038</td>\n",
       "      <td>980.014486</td>\n",
       "    </tr>\n",
       "    <tr>\n",
       "      <th>25%</th>\n",
       "      <td>16.359398</td>\n",
       "      <td>47.339815</td>\n",
       "      <td>4.761909</td>\n",
       "      <td>23.900016</td>\n",
       "      <td>996.938630</td>\n",
       "    </tr>\n",
       "    <tr>\n",
       "      <th>50%</th>\n",
       "      <td>22.536448</td>\n",
       "      <td>63.920797</td>\n",
       "      <td>9.908572</td>\n",
       "      <td>49.488284</td>\n",
       "      <td>1013.433035</td>\n",
       "    </tr>\n",
       "    <tr>\n",
       "      <th>75%</th>\n",
       "      <td>28.976476</td>\n",
       "      <td>81.561021</td>\n",
       "      <td>14.948408</td>\n",
       "      <td>75.324140</td>\n",
       "      <td>1031.735067</td>\n",
       "    </tr>\n",
       "    <tr>\n",
       "      <th>max</th>\n",
       "      <td>34.995214</td>\n",
       "      <td>99.997481</td>\n",
       "      <td>19.999132</td>\n",
       "      <td>99.997795</td>\n",
       "      <td>1049.985593</td>\n",
       "    </tr>\n",
       "  </tbody>\n",
       "</table>\n",
       "</div>"
      ],
      "text/plain": [
       "       Temperature     Humidity   Wind_Speed  Cloud_Cover     Pressure\n",
       "count  2500.000000  2500.000000  2500.000000  2500.000000  2500.000000\n",
       "mean     22.581725    64.347094     9.906255    49.658104  1014.312336\n",
       "std       7.326996    19.954739     5.780316    29.123104    20.196433\n",
       "min      10.001842    30.005071     0.009819     0.015038   980.014486\n",
       "25%      16.359398    47.339815     4.761909    23.900016   996.938630\n",
       "50%      22.536448    63.920797     9.908572    49.488284  1013.433035\n",
       "75%      28.976476    81.561021    14.948408    75.324140  1031.735067\n",
       "max      34.995214    99.997481    19.999132    99.997795  1049.985593"
      ]
     },
     "execution_count": 14,
     "metadata": {},
     "output_type": "execute_result"
    }
   ],
   "source": [
    "df.describe()"
   ]
  },
  {
   "cell_type": "code",
   "execution_count": 15,
   "id": "37a37d5e-2029-4931-8c0d-60a41a473132",
   "metadata": {},
   "outputs": [
    {
     "data": {
      "text/plain": [
       "Temperature    0\n",
       "Humidity       0\n",
       "Wind_Speed     0\n",
       "Cloud_Cover    0\n",
       "Pressure       0\n",
       "Rain           0\n",
       "dtype: int64"
      ]
     },
     "execution_count": 15,
     "metadata": {},
     "output_type": "execute_result"
    }
   ],
   "source": [
    "#checking if any empty data cells\n",
    "df.isnull().sum()"
   ]
  },
  {
   "cell_type": "code",
   "execution_count": 16,
   "id": "14655e57-41c9-4850-a893-499c523ea66e",
   "metadata": {},
   "outputs": [],
   "source": [
    "df['Rain'] = df['Rain'].map({'rain':1,'no rain':0})"
   ]
  },
  {
   "cell_type": "code",
   "execution_count": 17,
   "id": "4f26b06d-2469-4e71-81d7-fa5bc99fbdb4",
   "metadata": {},
   "outputs": [
    {
     "data": {
      "text/html": [
       "<div>\n",
       "<style scoped>\n",
       "    .dataframe tbody tr th:only-of-type {\n",
       "        vertical-align: middle;\n",
       "    }\n",
       "\n",
       "    .dataframe tbody tr th {\n",
       "        vertical-align: top;\n",
       "    }\n",
       "\n",
       "    .dataframe thead th {\n",
       "        text-align: right;\n",
       "    }\n",
       "</style>\n",
       "<table border=\"1\" class=\"dataframe\">\n",
       "  <thead>\n",
       "    <tr style=\"text-align: right;\">\n",
       "      <th></th>\n",
       "      <th>Temperature</th>\n",
       "      <th>Humidity</th>\n",
       "      <th>Wind_Speed</th>\n",
       "      <th>Cloud_Cover</th>\n",
       "      <th>Pressure</th>\n",
       "      <th>Rain</th>\n",
       "    </tr>\n",
       "  </thead>\n",
       "  <tbody>\n",
       "    <tr>\n",
       "      <th>0</th>\n",
       "      <td>23.720338</td>\n",
       "      <td>89.592641</td>\n",
       "      <td>7.335604</td>\n",
       "      <td>50.501694</td>\n",
       "      <td>1032.378759</td>\n",
       "      <td>1</td>\n",
       "    </tr>\n",
       "    <tr>\n",
       "      <th>1</th>\n",
       "      <td>27.879734</td>\n",
       "      <td>46.489704</td>\n",
       "      <td>5.952484</td>\n",
       "      <td>4.990053</td>\n",
       "      <td>992.614190</td>\n",
       "      <td>0</td>\n",
       "    </tr>\n",
       "    <tr>\n",
       "      <th>2</th>\n",
       "      <td>25.069084</td>\n",
       "      <td>83.072843</td>\n",
       "      <td>1.371992</td>\n",
       "      <td>14.855784</td>\n",
       "      <td>1007.231620</td>\n",
       "      <td>0</td>\n",
       "    </tr>\n",
       "    <tr>\n",
       "      <th>3</th>\n",
       "      <td>23.622080</td>\n",
       "      <td>74.367758</td>\n",
       "      <td>7.050551</td>\n",
       "      <td>67.255282</td>\n",
       "      <td>982.632013</td>\n",
       "      <td>1</td>\n",
       "    </tr>\n",
       "    <tr>\n",
       "      <th>4</th>\n",
       "      <td>20.591370</td>\n",
       "      <td>96.858822</td>\n",
       "      <td>4.643921</td>\n",
       "      <td>47.676444</td>\n",
       "      <td>980.825142</td>\n",
       "      <td>0</td>\n",
       "    </tr>\n",
       "  </tbody>\n",
       "</table>\n",
       "</div>"
      ],
      "text/plain": [
       "   Temperature   Humidity  Wind_Speed  Cloud_Cover     Pressure  Rain\n",
       "0    23.720338  89.592641    7.335604    50.501694  1032.378759     1\n",
       "1    27.879734  46.489704    5.952484     4.990053   992.614190     0\n",
       "2    25.069084  83.072843    1.371992    14.855784  1007.231620     0\n",
       "3    23.622080  74.367758    7.050551    67.255282   982.632013     1\n",
       "4    20.591370  96.858822    4.643921    47.676444   980.825142     0"
      ]
     },
     "execution_count": 17,
     "metadata": {},
     "output_type": "execute_result"
    }
   ],
   "source": [
    "df.head()"
   ]
  },
  {
   "cell_type": "code",
   "execution_count": 18,
   "id": "84b6cd13-490a-4901-a1fe-b2ad1c2adb29",
   "metadata": {},
   "outputs": [
    {
     "data": {
      "text/plain": [
       "0    1\n",
       "1    0\n",
       "2    0\n",
       "3    1\n",
       "4    0\n",
       "Name: Rain, dtype: int64"
      ]
     },
     "execution_count": 18,
     "metadata": {},
     "output_type": "execute_result"
    }
   ],
   "source": [
    "X = df.iloc[:,:5]\n",
    "y = df.iloc[:,-1]\n",
    "y.head()"
   ]
  },
  {
   "cell_type": "code",
   "execution_count": 20,
   "id": "95855b8a-46c5-415b-841c-15c732a2f169",
   "metadata": {},
   "outputs": [],
   "source": [
    "from sklearn.model_selection import train_test_split\n",
    "\n",
    "X_train,X_test,y_train,y_test = train_test_split(X, y, test_size=0.20, random_state=42)"
   ]
  },
  {
   "cell_type": "code",
   "execution_count": 22,
   "id": "f38d2e7d-dba6-489d-a352-ff99068adafb",
   "metadata": {},
   "outputs": [
    {
     "data": {
      "text/html": [
       "<div>\n",
       "<style scoped>\n",
       "    .dataframe tbody tr th:only-of-type {\n",
       "        vertical-align: middle;\n",
       "    }\n",
       "\n",
       "    .dataframe tbody tr th {\n",
       "        vertical-align: top;\n",
       "    }\n",
       "\n",
       "    .dataframe thead th {\n",
       "        text-align: right;\n",
       "    }\n",
       "</style>\n",
       "<table border=\"1\" class=\"dataframe\">\n",
       "  <thead>\n",
       "    <tr style=\"text-align: right;\">\n",
       "      <th></th>\n",
       "      <th>Temperature</th>\n",
       "      <th>Humidity</th>\n",
       "      <th>Wind_Speed</th>\n",
       "      <th>Cloud_Cover</th>\n",
       "      <th>Pressure</th>\n",
       "    </tr>\n",
       "  </thead>\n",
       "  <tbody>\n",
       "    <tr>\n",
       "      <th>2055</th>\n",
       "      <td>10.001842</td>\n",
       "      <td>78.251648</td>\n",
       "      <td>4.980841</td>\n",
       "      <td>29.887058</td>\n",
       "      <td>1033.641741</td>\n",
       "    </tr>\n",
       "    <tr>\n",
       "      <th>1961</th>\n",
       "      <td>34.105244</td>\n",
       "      <td>32.844383</td>\n",
       "      <td>7.206672</td>\n",
       "      <td>94.151499</td>\n",
       "      <td>1027.991494</td>\n",
       "    </tr>\n",
       "    <tr>\n",
       "      <th>1864</th>\n",
       "      <td>15.240068</td>\n",
       "      <td>82.011602</td>\n",
       "      <td>10.695710</td>\n",
       "      <td>20.713915</td>\n",
       "      <td>1046.234092</td>\n",
       "    </tr>\n",
       "    <tr>\n",
       "      <th>2326</th>\n",
       "      <td>17.161616</td>\n",
       "      <td>76.483176</td>\n",
       "      <td>13.680669</td>\n",
       "      <td>55.915756</td>\n",
       "      <td>1041.597091</td>\n",
       "    </tr>\n",
       "    <tr>\n",
       "      <th>461</th>\n",
       "      <td>19.476422</td>\n",
       "      <td>93.112471</td>\n",
       "      <td>1.692415</td>\n",
       "      <td>52.228285</td>\n",
       "      <td>1028.830153</td>\n",
       "    </tr>\n",
       "    <tr>\n",
       "      <th>...</th>\n",
       "      <td>...</td>\n",
       "      <td>...</td>\n",
       "      <td>...</td>\n",
       "      <td>...</td>\n",
       "      <td>...</td>\n",
       "    </tr>\n",
       "    <tr>\n",
       "      <th>1638</th>\n",
       "      <td>26.825253</td>\n",
       "      <td>91.686792</td>\n",
       "      <td>8.058946</td>\n",
       "      <td>78.792732</td>\n",
       "      <td>1039.223895</td>\n",
       "    </tr>\n",
       "    <tr>\n",
       "      <th>1095</th>\n",
       "      <td>28.974614</td>\n",
       "      <td>58.618211</td>\n",
       "      <td>13.531515</td>\n",
       "      <td>67.976388</td>\n",
       "      <td>1025.789614</td>\n",
       "    </tr>\n",
       "    <tr>\n",
       "      <th>1130</th>\n",
       "      <td>10.051616</td>\n",
       "      <td>30.573940</td>\n",
       "      <td>9.517521</td>\n",
       "      <td>54.450577</td>\n",
       "      <td>997.630125</td>\n",
       "    </tr>\n",
       "    <tr>\n",
       "      <th>1294</th>\n",
       "      <td>10.619226</td>\n",
       "      <td>32.810852</td>\n",
       "      <td>16.924988</td>\n",
       "      <td>79.125241</td>\n",
       "      <td>1011.754684</td>\n",
       "    </tr>\n",
       "    <tr>\n",
       "      <th>860</th>\n",
       "      <td>33.427926</td>\n",
       "      <td>91.082135</td>\n",
       "      <td>2.555987</td>\n",
       "      <td>55.678875</td>\n",
       "      <td>1047.366547</td>\n",
       "    </tr>\n",
       "  </tbody>\n",
       "</table>\n",
       "<p>2000 rows × 5 columns</p>\n",
       "</div>"
      ],
      "text/plain": [
       "      Temperature   Humidity  Wind_Speed  Cloud_Cover     Pressure\n",
       "2055    10.001842  78.251648    4.980841    29.887058  1033.641741\n",
       "1961    34.105244  32.844383    7.206672    94.151499  1027.991494\n",
       "1864    15.240068  82.011602   10.695710    20.713915  1046.234092\n",
       "2326    17.161616  76.483176   13.680669    55.915756  1041.597091\n",
       "461     19.476422  93.112471    1.692415    52.228285  1028.830153\n",
       "...           ...        ...         ...          ...          ...\n",
       "1638    26.825253  91.686792    8.058946    78.792732  1039.223895\n",
       "1095    28.974614  58.618211   13.531515    67.976388  1025.789614\n",
       "1130    10.051616  30.573940    9.517521    54.450577   997.630125\n",
       "1294    10.619226  32.810852   16.924988    79.125241  1011.754684\n",
       "860     33.427926  91.082135    2.555987    55.678875  1047.366547\n",
       "\n",
       "[2000 rows x 5 columns]"
      ]
     },
     "execution_count": 22,
     "metadata": {},
     "output_type": "execute_result"
    }
   ],
   "source": [
    "X_train"
   ]
  },
  {
   "cell_type": "code",
   "execution_count": 30,
   "id": "cbed1edc-d649-48d8-94f9-61d84b706aba",
   "metadata": {},
   "outputs": [],
   "source": [
    "from sklearn.preprocessing import StandardScaler\n",
    "\n",
    "scaler=StandardScaler()\n",
    "X_train = scaler.fit_transform(X_train)\n",
    "X_test = scaler.transform(X_test)"
   ]
  },
  {
   "cell_type": "code",
   "execution_count": 32,
   "id": "23a18fea-96d7-4638-a709-121d071e5bb1",
   "metadata": {},
   "outputs": [
    {
     "data": {
      "text/plain": [
       "array([[ 0.69659576, -1.58022421,  1.44229002, -0.95956467, -0.27369604],\n",
       "       [-0.2130173 , -0.86927498,  0.95187547,  0.20294506,  1.30915532],\n",
       "       [ 0.02433745,  0.29546605, -1.72687885, -0.00248771,  0.41989596],\n",
       "       ...,\n",
       "       [-0.48210234,  1.0423659 ,  0.15781154,  1.52204062,  1.6708541 ],\n",
       "       [ 0.21252744,  0.15164594,  1.02676094,  1.12230565,  1.51327485],\n",
       "       [ 0.08163122,  0.23172069, -0.58614584,  0.04169576,  1.58711561]])"
      ]
     },
     "execution_count": 32,
     "metadata": {},
     "output_type": "execute_result"
    }
   ],
   "source": [
    "X_test"
   ]
  },
  {
   "cell_type": "code",
   "execution_count": 46,
   "id": "fc1c207c-b834-45ed-aa96-d115d85b832e",
   "metadata": {},
   "outputs": [],
   "source": [
    "from sklearn.linear_model import LogisticRegression\n",
    "from sklearn.model_selection import GridSearchCV\n",
    "\n",
    "classifier=LogisticRegression()\n",
    "parameter= {'penalty' : ['l1', 'l2', 'elasticnet'], 'C':[0.1,2,3,5,7,9,10,30], 'max_iter':[10,50,100]}"
   ]
  },
  {
   "cell_type": "code",
   "execution_count": 48,
   "id": "04bbb2cc-b504-4125-8b90-e86e3786bff7",
   "metadata": {},
   "outputs": [],
   "source": [
    "#classifier_cv = GridSearchCV(classifier,param_grid=parameter,scoring='accuracy',cv=5)"
   ]
  },
  {
   "cell_type": "code",
   "execution_count": 50,
   "id": "8823684f-711b-4eea-8f71-0c28a5a457ce",
   "metadata": {},
   "outputs": [],
   "source": [
    "classifier.fit(X_train, y_train)\n",
    "y_pred = classifier.predict(X_test)"
   ]
  },
  {
   "cell_type": "code",
   "execution_count": 52,
   "id": "d891e641-8f45-46b4-b829-8e0986f673c5",
   "metadata": {},
   "outputs": [
    {
     "name": "stdout",
     "output_type": "stream",
     "text": [
      "{'C': 0.1, 'max_iter': 10, 'penalty': 'l2'}\n"
     ]
    }
   ],
   "source": [
    "print(classifier_cv.best_params_)"
   ]
  },
  {
   "cell_type": "code",
   "execution_count": 54,
   "id": "0c698899-1b5c-4ebe-8349-41a842b755d6",
   "metadata": {},
   "outputs": [],
   "source": [
    "from sklearn.metrics import accuracy_score, precision_score, classification_report\n",
    "\n",
    "accuracy = accuracy_score(y_test, y_pred)\n",
    "precision = precision_score( y_test, y_pred)\n",
    "report = classification_report(y_test, y_pred)"
   ]
  },
  {
   "cell_type": "code",
   "execution_count": 56,
   "id": "2b0df908-545c-4a5f-b184-ede4b6f4712e",
   "metadata": {},
   "outputs": [
    {
     "name": "stdout",
     "output_type": "stream",
     "text": [
      "0.932\n",
      "0.7346938775510204\n"
     ]
    }
   ],
   "source": [
    "print(accuracy)\n",
    "print(precision)"
   ]
  },
  {
   "cell_type": "code",
   "execution_count": 58,
   "id": "7b7b1e99-c005-4f27-a44e-f3420db39024",
   "metadata": {},
   "outputs": [
    {
     "name": "stdout",
     "output_type": "stream",
     "text": [
      "              precision    recall  f1-score   support\n",
      "\n",
      "           0       0.95      0.97      0.96       443\n",
      "           1       0.73      0.63      0.68        57\n",
      "\n",
      "    accuracy                           0.93       500\n",
      "   macro avg       0.84      0.80      0.82       500\n",
      "weighted avg       0.93      0.93      0.93       500\n",
      "\n"
     ]
    }
   ],
   "source": [
    "print(report)"
   ]
  },
  {
   "cell_type": "code",
   "execution_count": null,
   "id": "2fe60b18-7a53-4a8d-b84d-8ed87f02255e",
   "metadata": {},
   "outputs": [],
   "source": []
  },
  {
   "cell_type": "code",
   "execution_count": null,
   "id": "f7ce055e-5328-4b50-a85b-6e5a79734a8a",
   "metadata": {},
   "outputs": [],
   "source": []
  }
 ],
 "metadata": {
  "kernelspec": {
   "display_name": "Python 3 (ipykernel)",
   "language": "python",
   "name": "python3"
  },
  "language_info": {
   "codemirror_mode": {
    "name": "ipython",
    "version": 3
   },
   "file_extension": ".py",
   "mimetype": "text/x-python",
   "name": "python",
   "nbconvert_exporter": "python",
   "pygments_lexer": "ipython3",
   "version": "3.12.4"
  }
 },
 "nbformat": 4,
 "nbformat_minor": 5
}
